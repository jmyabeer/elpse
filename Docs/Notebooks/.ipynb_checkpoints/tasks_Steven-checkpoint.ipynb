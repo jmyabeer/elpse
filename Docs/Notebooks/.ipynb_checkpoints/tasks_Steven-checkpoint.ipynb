{
 "cells": [
  {
   "cell_type": "markdown",
   "metadata": {},
   "source": [
    "## Suggested tasks for Steven\n",
    "\n",
    "J. F. Myatt  \n",
    "15 June 2020"
   ]
  },
  {
   "cell_type": "markdown",
   "metadata": {},
   "source": [
    "**15 June 2020**  \n",
    "\n",
    "Steven, I've made the Matlab program more useable. I've also reorganized it a bit. The script *main_program.m* now does most of the work. Here is a description of what it does:"
   ]
  },
  {
   "cell_type": "markdown",
   "metadata": {},
   "source": [
    "### Rough description of the code operation\n",
    "\n",
    "I've reorganized a bit. I put the functions that deal with plotting in their own directory (./Plotting), while the rest is in the ./Source directory. This is why I add these paths at the beginning of the script.\n",
    "\n",
    "I'm keeping a bunch of definitions as globals that are initialized with *initCnst*. I'm happy with this and more things can be added as needed.\n",
    "\n",
    "I'm trying to come up with a good way of dealing with plotting. For now, I have a \"plot list\" that is controlled by a bunch of flags. These can be initialized to defaults (using *initDefaultPlots*) or set separately. There is also a function called *clearPlotList* that removes everything. There is then a function called *makePlotList* that will plot all the things that have been set on the plot list. Since this doesn't cover everything, there are other functions such as *addBundlePlt* and *addContourPlt* that can modify the above by overplotting ray trajectories and contours respectively. Take a look at these and see how it works. We might want to change this at some point, but it seems o.k. for now.\n",
    "\n",
    "I haven't changed the way that the hydrodynamic profiles are loaded. As you know the *importDracoGrid* function returns a *rayGd* structure that is required for most of the plotting and ray integration. One thing that I would like to do is to write another function (*importAnalyticGrid*?) that returns a *rayGd* structure, but based on analytic plasma profiles that the user selects (e.g., a density profile that is linear). This could be useful for checking our integrators as we add more functionality such as computing the intensity and absorption along a ray. I don't want you to work on this yet though.\n",
    "\n",
    "**Currently there are two main ways of creating bundles of rays** (ray bundles are structures that seem useful and I think we should continue to use them). These are via a *launchList* that is passed as an argument to the *makeRayBundle* function or the *getRamanWaveVectors* function. I'm thinking of changing the name of this second function to be *getRamanBundles* as it is a more accurate description of what it does.\n",
    "\n",
    "* The use of *makeRayBundle* is to launch rays that correspond to incident beams. This includes the laser drive beams, detected light (that is integrated backwards in time). In the future it could include Thomson scattering probe beams or detected Thomson scattered light. \n",
    "\n",
    "* The use of *getRamanWaveVectors/getRamanBundles* is to return ray bundles corresponding to the daughter productions of stimulated Raman scattering events along a previously defined EM ray. I think I like the way this works. We could write similar functions for two-plasmon decay and stimulated Brillouin scattering events.\n",
    "\n",
    "The nice thing about ray bundles is that they can all be integrated in time (i.e., pushed) with the same function (*pushBundle*). It knows what type of wave it is dealing with because the *type* (EM/EPW) descriptor is part of the bundle.\n",
    "\n",
    "This function works o.k. (ish). There is still occasionally a problem with integrating outside of the domain where the hydro is defined. I'll fix this at some point. You might also want to try to figure it out. It's not too bad though.\n",
    "\n",
    "We are at a point where the above stuff works, so I suggest we use it a little bit before we go on to add more functionality. I think the act of using it will give us better insight into how we should proceed with development."
   ]
  },
  {
   "cell_type": "markdown",
   "metadata": {},
   "source": [
    "### Suggestions for first use of the code\n",
    "\n",
    "1. Run the example given in *main_program.m* and understand what it is doing. You will see that the SRS light along a particular incident ray corresponding to perfect backscatter only retraces the original ray if the scattering is at low density. For longer wavelength backscatter (e.g. 670 nm) it exits at a very different angle (close to the direction anti-parallel to the density gradient.  \n",
    "    \n",
    "2. For the case of two beams incident at $\\pm 23^\\circ$ figure out which rays fall into the detector. In practice this means that the Raman must exit with an angle that is within $\\pm 3^\\circ$ of the angle to the incident beam. Do this for one particular hydro time slice for now. You should be able to make a histogram of number of rays in a given frequency bin hitting the detector. You'll need to write some functions to help you. I can assist after you've had a good think about it.\n",
    "\n",
    "3. Once you've completed \\#2 we'll need to discuss because the next step will be to automate all of the above so that we can look at SRS events that are not just backscatter but include several angles between forward and backscatter (using the changes that you make to *getRamanWavevectors*. We'd also like to do this for all the time slices so that we can make a simulated streaked spectrum."
   ]
  },
  {
   "cell_type": "markdown",
   "metadata": {},
   "source": [
    "**June 18, 2020**\n",
    "\n"
   ]
  },
  {
   "cell_type": "markdown",
   "metadata": {},
   "source": [
    "The following changes were made:\n",
    "\n",
    "* Two new functions (*setHaltAll* and *resetHaltAll*) have been written that help with ray integrations. They prevent (allow) pushBundle to move the rays.\n",
    "\n",
    "* I fixed *makeRayBundle*. When using the *LaunchList* it improperly rotated the initial points. Quite embarassing. It now uses atan2() which picks up the proper quandrant from the centroid vector.\n",
    "\n",
    "* I made some changes to *main_program* when working on the above.\n",
    "    - note that in the previous main program the initial push bundle call left too few trajectory points in the interesting Raman region. I modified this - as you will have to do also (see the new *main_program*)\n",
    "\n",
    "* There is a new driver program called *ramanMovie*. I think it could be useful for you to have a look at it. I loop over backscatter one ray at a time and make a movie. You need to do this and then score the results on the detector\n",
    "\n",
    "* There is a .avi file which is obtained from the above on using the new script *makeAVI*"
   ]
  },
  {
   "cell_type": "markdown",
   "metadata": {},
   "source": [
    "**July 20, 2020**\n",
    "\n",
    "Fixed:\n",
    "\n",
    "* getRamanWavevectors_sh() tests for complex solutions to the resonance conditions by looking at the imaginary part of the LW wavevector $k$. Even for evanescent waves, this can still be real (or very close to it). It is better to test on kSRSMag - which has been done. It seems o.k. now.\n",
    "\n",
    "Still to Fix:\n",
    "\n",
    "* pushBundle still seems to be pushing rays outside of the interpolation domain. I don't know why. This needs to be tracked down. Reducing the interpolation time seems to be a workaround, but it is sub-optimal.\n",
    "\n",
    "Some things that need to be addressed:\n",
    "\n",
    "* $checkPush()$ should be modified to return a logical vector\n",
    "\n",
    "Things to do:\n",
    "\n",
    "* With the removal of \"outbound\" SRS we should be in good shape now to make a histogram.\n",
    "* Think a bit more carefully about the detector struct (write detectorInit() function if not done already)\n",
    "* Compute a histogram for various angles of backscatter. i.e., we can start to say something about the experiment.\n",
    "* Put code under revision control with Git. Perhaps use gitHub as a remote that we can use to collaborate more effectively?\n",
    "* Does Steven know Git?"
   ]
  },
  {
   "cell_type": "markdown",
   "metadata": {},
   "source": [
    "**August 12, 2020**\n",
    "\n",
    "Things to do:\n",
    "\n",
    "* Add a capability to the script that will save incident ray bundles for future use (and also a detector such as \"sabs\")\n",
    "\n",
    "* Write a function that will take a detector and the appropriate incident ray bundle that will: return the bundle and ray index (incident bundle index) from which the Raman hitting the detector in a given freqency range originates. For now we'll do this for just one Raman angle. We'll need to think what to do later when we have multiple Raman angles.\n",
    "\n",
    "* Once we have the above, use it to confirm the correctness of the detector histogram that was obtained for $\\pm 90^\\circ$ SRS."
   ]
  }
 ],
 "metadata": {
  "kernelspec": {
   "display_name": "Python 3",
   "language": "python",
   "name": "python3"
  },
  "language_info": {
   "codemirror_mode": {
    "name": "ipython",
    "version": 3
   },
   "file_extension": ".py",
   "mimetype": "text/x-python",
   "name": "python",
   "nbconvert_exporter": "python",
   "pygments_lexer": "ipython3",
   "version": "3.6.9"
  }
 },
 "nbformat": 4,
 "nbformat_minor": 2
}
