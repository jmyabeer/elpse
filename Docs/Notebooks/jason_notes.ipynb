{
 "cells": [
  {
   "cell_type": "markdown",
   "metadata": {},
   "source": [
    "----\n",
    "\n",
    "## Notes on Michel *et al.*, PRE 99, 033203 (2019)\n",
    "\n",
    "\n",
    "---"
   ]
  },
  {
   "cell_type": "code",
   "execution_count": 1,
   "metadata": {},
   "outputs": [],
   "source": [
    "import numpy as np\n",
    "# investigate scipy.integrate.solve_ivp\n",
    "from scipy.integrate import solve_ivp\n",
    "import matplotlib.pyplot as plt\n",
    "\n",
    "import sympy as spy"
   ]
  },
  {
   "cell_type": "code",
   "execution_count": null,
   "metadata": {},
   "outputs": [],
   "source": [
    "s, omb, ve = spy.symbols('s omega_b v_e', real=True)\n",
    "omgP = spy.Function('omega_p')\n",
    "kb = spy.Function('k_b')"
   ]
  },
  {
   "cell_type": "markdown",
   "metadata": {},
   "source": [
    "The starting point is Pierre's Eq. (2), which is an expression for the gain assuming a local driven EPW response:\n",
    "\n",
    "$$\n",
    "\\boxed{\n",
    "G = \\int_s \\frac{k_b^2 |a_0|^2\\omega_\\text{p}^2}{4 k_\\text{s}} \n",
    "\\frac{2 \\nu \\omega_\\text{b}}{D^2+4\\nu^2\\omega_\\text{b}^2}\\; ds,\n",
    "}\n",
    "$$\n",
    "\n",
    "where the path integral is taken along the ray trajectory for the Raman light. Here $s$ is the path length.\n",
    "\n",
    "$D$ is the dispersion function that relates the mismatch between the beat frequency $\\omega_\\text{b}$ of the two light waves with the local frequency of a Langmuir wave, of the right wave vector, at that point on the path:\n",
    "\n",
    "$$\n",
    "D(k_\\text{b},\\omega_\\text{b}) = \\omega_\\text{b}^2 -\n",
    "[\\omega_\\text{p}^2(s) + 3v_\\text{e}^2k_\\text{b}^2(s) ].\n",
    "$$"
   ]
  },
  {
   "cell_type": "code",
   "execution_count": 28,
   "metadata": {},
   "outputs": [
    {
     "data": {
      "text/latex": [
       "$\\displaystyle \\omega_{b}^{2} - 3 v_{e}^{2} \\operatorname{k_{b}}^{2}{\\left(s \\right)} - \\omega_{p}^{2}{\\left(s \\right)}$"
      ],
      "text/plain": [
       "omega_b**2 - 3*v_e**2*k_b(s)**2 - omega_p(s)**2"
      ]
     },
     "execution_count": 28,
     "metadata": {},
     "output_type": "execute_result"
    }
   ],
   "source": [
    "Dexpr = omb**2 - (omgP(s)**2+3*ve**2*kb(s)**2)\n",
    "Dexpr"
   ]
  },
  {
   "cell_type": "markdown",
   "metadata": {},
   "source": [
    "It is assumed that resonance is obtained for $s=0$, such that\n",
    "\n",
    "$$\n",
    "\\omega_\\text{p}^2(0) + 3v_\\text{e}^2k_\\text{b}(0)^2\n",
    "= \\omega_\\text{b}^2.\n",
    "$$\n",
    "\n",
    "We define $\\omega_\\text{p,r}\\equiv \\omega_\\text{p}^2(0)$ and:\n",
    "\n",
    "$$\n",
    "{\\bf k}_\\text{b}(s) = {\\bf k}_\\text{0} -{\\bf k}_\\text{s}(s),\n",
    "$$\n",
    "\n",
    "where ${\\bf k}_\\text{0}$ is the (constant) light wave vector, and\n",
    "${\\bf k}_\\text{s}$ is the scattered (Raman) light wave vector that varies along its ray path as it is refracted."
   ]
  },
  {
   "cell_type": "markdown",
   "metadata": {},
   "source": [
    "Since $D$ is a smooth function of the path length, we may Taylor expand it around the resonance (where $D(0)=0$):\n",
    "\n",
    "$$\n",
    "D(s) \\approx D(0) + s D^\\prime(s)|_{s=0}\n",
    "+ \\frac{s^2}{2} D^{\\prime\\prime}(s)|_{s=0} + \\cdots \\\\\n",
    "= s D^\\prime(s)|_{s=0}\n",
    "+ \\frac{s^2}{2} D^{\\prime\\prime}(s)|_{s=0} + \\cdots\n",
    "$$\n",
    "\n",
    "We need to know the derivatives of $D$ with respect to $s$"
   ]
  },
  {
   "cell_type": "code",
   "execution_count": 30,
   "metadata": {},
   "outputs": [
    {
     "data": {
      "text/latex": [
       "$\\displaystyle - 6 v_{e}^{2} \\operatorname{k_{b}}{\\left(s \\right)} \\frac{d}{d s} \\operatorname{k_{b}}{\\left(s \\right)} - 2 \\omega_{p}{\\left(s \\right)} \\frac{d}{d s} \\omega_{p}{\\left(s \\right)}$"
      ],
      "text/plain": [
       "-6*v_e**2*k_b(s)*Derivative(k_b(s), s) - 2*omega_p(s)*Derivative(omega_p(s), s)"
      ]
     },
     "execution_count": 30,
     "metadata": {},
     "output_type": "execute_result"
    }
   ],
   "source": [
    "DprimeExpr = spy.diff(Dexpr,s) \n",
    "DprimeExpr"
   ]
  },
  {
   "cell_type": "code",
   "execution_count": 32,
   "metadata": {},
   "outputs": [
    {
     "data": {
      "text/latex": [
       "$\\displaystyle - 6 v_{e}^{2} \\operatorname{k_{b}}{\\left(s \\right)} \\frac{d^{2}}{d s^{2}} \\operatorname{k_{b}}{\\left(s \\right)} - 6 v_{e}^{2} \\left(\\frac{d}{d s} \\operatorname{k_{b}}{\\left(s \\right)}\\right)^{2} - 2 \\omega_{p}{\\left(s \\right)} \\frac{d^{2}}{d s^{2}} \\omega_{p}{\\left(s \\right)} - 2 \\left(\\frac{d}{d s} \\omega_{p}{\\left(s \\right)}\\right)^{2}$"
      ],
      "text/plain": [
       "-6*v_e**2*k_b(s)*Derivative(k_b(s), (s, 2)) - 6*v_e**2*Derivative(k_b(s), s)**2 - 2*omega_p(s)*Derivative(omega_p(s), (s, 2)) - 2*Derivative(omega_p(s), s)**2"
      ]
     },
     "execution_count": 32,
     "metadata": {},
     "output_type": "execute_result"
    }
   ],
   "source": [
    "DdoublePrime = spy.diff(DprimeExpr,s)\n",
    "DdoublePrime"
   ]
  },
  {
   "cell_type": "markdown",
   "metadata": {},
   "source": [
    "$$\n",
    "\\frac{\\text{d} D(s)}{\\text{d}s} = -2\\omega_\\text{p} \\frac{\\text{d} \\omega_\\text{p}(s)}{\\text{d}s} - 6 v_\\text{e}^2k_\\text{b}\n",
    "\\frac{\\text{d} k_\\text{b}(s)}{\\text{d}s}.\n",
    "$$\n",
    "\n",
    "To first order in $s$, the function $D(s)$ therefore changes from resonance, at $s=0$, due to changes in the local density/plasma frequency along the path and due to changes in the length of the beat wavevector $k_\\text{b}$ caused by *bending* of the SRS path (i.e., changing $k_\\text{s}$)."
   ]
  },
  {
   "cell_type": "markdown",
   "metadata": {},
   "source": [
    "If the path **does not bend**, and is a straight line, then only the **first term** contributes. \n",
    "\n",
    "Consider this case, where the path length is given in terms of linear coordinate $z$:\n",
    "\n",
    "$$\n",
    "s = -\\frac{z}{\\cos(\\theta)}\n",
    "$$\n",
    "\n",
    "and\n",
    "\n",
    "$$\n",
    "\\frac{\\text{d}}{\\text{d}s} = -\\cos(\\theta)\\frac{\\text{d}}{\\text{d}z}\\\\\n",
    "\\frac{\\text{d} \\omega_\\text{p}(s)}{\\text{d}s} =\n",
    "-\\cos(\\theta)\\frac{\\text{d} \\omega_\\text{p}(z)}{\\text{d}z}\n",
    "$$\n",
    "\n",
    "Now take a plasma density profiles that increases linearly with $z$ and with a scale-length $L$ such that\n",
    "\n",
    "$$\n",
    "\\frac{\\text{d} \\omega_\\text{p}(z)}{\\text{d}z} = \n",
    "\\frac{\\omega_\\text{p}}{2L}.\n",
    "$$\n",
    "\n",
    "This gives\n",
    "\n",
    "$$\n",
    "\\frac{\\text{d} \\omega_\\text{p}(s)}{\\text{d}s} = -\\cos(\\theta)\n",
    "\\frac{\\omega_\\text{p}}{2L},\n",
    "$$\n",
    "\n",
    "with the result that \n",
    "\n",
    "$$\n",
    "\\frac{\\text{d} D(s)}{\\text{d}s} = (-2\\omega_\\text{p})\n",
    "(-\\cos(\\theta) \\frac{\\omega_\\text{p}}{2L}), \\\\\n",
    "= \\cos(\\theta) \\frac{\\omega_\\text{p}^2}{L}\n",
    "$$\n",
    "\n",
    "and\n",
    "\n",
    "$$\n",
    "s D^\\prime(s)|_{s=0} = s\\frac{\\omega_\\text{p,r}^2}{L} \\cos(\\theta). \n",
    "$$\n",
    "\n",
    "The result is that\n",
    "\n",
    "$$\n",
    "D(s) \\approx s\\frac{\\omega_\\text{p,r}^2}{L} \\cos(\\theta) \n",
    "\\quad \\equiv s^\\prime\n",
    "$$\n",
    "\n",
    "in the integral above."
   ]
  },
  {
   "cell_type": "markdown",
   "metadata": {},
   "source": [
    "### Compuation of the gain for a straight line trajectory\n",
    "\n",
    "Assuming that the change of local plasma frequency can be ignored, except for the resonant part, we need to compute:"
   ]
  },
  {
   "cell_type": "markdown",
   "metadata": {},
   "source": [
    "$$\n",
    "G = \\frac{k_b^2 |a_0|^2\\omega_\\text{p}^2}{4 k_\\text{s}}  I,\n",
    "$$\n",
    "\n",
    "where\n",
    "\n",
    "$$\n",
    "I\\equiv \\int_s \n",
    "\\frac{2 \\nu \\omega_\\text{b}}{D^2+4\\nu^2\\omega_\\text{b}^2}\\; ds\n",
    "$$"
   ]
  },
  {
   "cell_type": "markdown",
   "metadata": {},
   "source": [
    "Changing the integration variable to $s^\\prime$ and defining\n",
    "$a= 2\\nu\\omega_\\text{b}$, the integral $I$ becomes:\n",
    "\n",
    "$$\n",
    "I = \\frac{L}{\\omega_\\text{p,r}^2 \\cos(\\theta)}\n",
    "\\int_{-\\infty}^\\infty \\, ds^\\prime\n",
    "\\frac{a}{(s^\\prime)^2+a^2}.\n",
    "$$\n",
    "\n",
    "The integral \n",
    "\n",
    "$$\n",
    "\\int_{-\\infty}^\\infty \\, ds^\\prime\n",
    "\\frac{a}{(s^\\prime)^2+a^2} = \\pi\n",
    "$$\n",
    "\n",
    "> simple contour integral with poles at $x=\\pm ia$."
   ]
  },
  {
   "cell_type": "code",
   "execution_count": 7,
   "metadata": {},
   "outputs": [
    {
     "data": {
      "text/latex": [
       "$\\displaystyle \\pi$"
      ],
      "text/plain": [
       "pi"
      ]
     },
     "execution_count": 7,
     "metadata": {},
     "output_type": "execute_result"
    }
   ],
   "source": [
    "x = spy.symbols('x', real=True)\n",
    "a = spy.symbols('a', real=True, positive=True)\n",
    "spy.integrate(a/(x**2+a**2),(x,-spy.oo,spy.oo))"
   ]
  },
  {
   "cell_type": "markdown",
   "metadata": {},
   "source": [
    "Then\n",
    "\n",
    "$$\n",
    "I = \\frac{\\pi L}{\\omega_\\text{p,r}^2 \\cos(\\theta)}\n",
    "$$\n",
    "\n",
    "In this case, the gain is therefore given by\n",
    "\n",
    "$$\n",
    "G = \\frac{k_b^2 |a_0|^2\\omega_\\text{p}^2}{4 k_\\text{s}}  I, \\\\\n",
    "= \\frac{k_b^2 |a_0|^2\\omega_\\text{p}^2}{4 k_\\text{s}}\n",
    "\\frac{\\pi L}{\\omega_\\text{p,r}^2 \\cos(\\theta)}\n",
    "$$\n",
    "\n",
    "$$\n",
    "\\boxed{\n",
    "G = \\frac{\\pi k_b^2 |a_0|^2L}{4 k_\\text{s}\\cos(\\theta)}.\n",
    "}\n",
    "$$"
   ]
  },
  {
   "cell_type": "markdown",
   "metadata": {},
   "source": [
    "### Compare this with the Rosenbluth gain"
   ]
  },
  {
   "cell_type": "markdown",
   "metadata": {},
   "source": [
    "Write in here the formula, then compute the relevant quantities while referencing the ray tracing equations"
   ]
  },
  {
   "cell_type": "code",
   "execution_count": 15,
   "metadata": {},
   "outputs": [],
   "source": [
    "n, nt, ni, phii = spy.symbols(\"n n_t n_i phi_i\")\n",
    "phi = spy.Function(\"phi\")"
   ]
  },
  {
   "cell_type": "code",
   "execution_count": 16,
   "metadata": {},
   "outputs": [
    {
     "data": {
      "text/latex": [
       "$\\displaystyle \\phi_{i}$"
      ],
      "text/plain": [
       "phi_i"
      ]
     },
     "execution_count": 16,
     "metadata": {},
     "output_type": "execute_result"
    }
   ],
   "source": [
    "phii"
   ]
  },
  {
   "cell_type": "code",
   "execution_count": null,
   "metadata": {},
   "outputs": [],
   "source": [
    "ourEq = phi(n).diff(n) - nt/(2*n)+1/2\n",
    "\n",
    "sol = spy.dsolve(ourEq)\n",
    "c1sol = spy.solve(sol.subs({n:ni}),spy.symbols(\"C1\"))\n",
    "\n",
    "spy.together(sol.subs({spy.symbols(\"C1\"):c1sol[0]}))"
   ]
  },
  {
   "cell_type": "code",
   "execution_count": null,
   "metadata": {},
   "outputs": [],
   "source": [
    "pExpr.subs({n:maxn[0]})"
   ]
  },
  {
   "cell_type": "code",
   "execution_count": null,
   "metadata": {},
   "outputs": [],
   "source": [
    "spy.series(spy.cosh(z),z,0,7)"
   ]
  },
  {
   "cell_type": "code",
   "execution_count": null,
   "metadata": {},
   "outputs": [],
   "source": [
    "dmaxExpr = spy.diff(maxExpr, T)  # differentiate our expression wrt T\n",
    "dmaxExpr"
   ]
  }
 ],
 "metadata": {
  "kernelspec": {
   "display_name": "Python 3",
   "language": "python",
   "name": "python3"
  },
  "language_info": {
   "codemirror_mode": {
    "name": "ipython",
    "version": 3
   },
   "file_extension": ".py",
   "mimetype": "text/x-python",
   "name": "python",
   "nbconvert_exporter": "python",
   "pygments_lexer": "ipython3",
   "version": "3.6.9"
  }
 },
 "nbformat": 4,
 "nbformat_minor": 2
}
